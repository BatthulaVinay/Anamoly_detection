{
 "cells": [
  {
   "cell_type": "code",
   "execution_count": 1,
   "id": "ad4be638",
   "metadata": {
    "_cell_guid": "b1076dfc-b9ad-4769-8c92-a6c4dae69d19",
    "_uuid": "8f2839f25d086af736a60e9eeb907d3b93b6e0e5",
    "execution": {
     "iopub.execute_input": "2025-04-10T09:22:53.109629Z",
     "iopub.status.busy": "2025-04-10T09:22:53.108938Z",
     "iopub.status.idle": "2025-04-10T09:22:55.200319Z",
     "shell.execute_reply": "2025-04-10T09:22:55.199038Z"
    },
    "papermill": {
     "duration": 2.100704,
     "end_time": "2025-04-10T09:22:55.202260",
     "exception": false,
     "start_time": "2025-04-10T09:22:53.101556",
     "status": "completed"
    },
    "tags": []
   },
   "outputs": [
    {
     "name": "stdout",
     "output_type": "stream",
     "text": [
      "/kaggle/input/celebal-ana-verse-h/train.parquet\n",
      "/kaggle/input/celebal-ana-verse-h/sample_submission.parquet\n",
      "/kaggle/input/celebal-ana-verse-h/test.parquet\n"
     ]
    }
   ],
   "source": [
    "# This Python 3 environment comes with many helpful analytics libraries installed\n",
    "# It is defined by the kaggle/python Docker image: https://github.com/kaggle/docker-python\n",
    "# For example, here's several helpful packages to load\n",
    "\n",
    "import numpy as np # linear algebra\n",
    "import pandas as pd # data processing, CSV file I/O (e.g. pd.read_csv)\n",
    "\n",
    "# Input data files are available in the read-only \"../input/\" directory\n",
    "# For example, running this (by clicking run or pressing Shift+Enter) will list all files under the input directory\n",
    "\n",
    "import os\n",
    "for dirname, _, filenames in os.walk('/kaggle/input'):\n",
    "    for filename in filenames:\n",
    "        print(os.path.join(dirname, filename))\n",
    "\n",
    "# You can write up to 20GB to the current directory (/kaggle/working/) that gets preserved as output when you create a version using \"Save & Run All\" \n",
    "# You can also write temporary files to /kaggle/temp/, but they won't be saved outside of the current session"
   ]
  },
  {
   "cell_type": "markdown",
   "id": "542ec99b",
   "metadata": {
    "papermill": {
     "duration": 0.005045,
     "end_time": "2025-04-10T09:22:55.213301",
     "exception": false,
     "start_time": "2025-04-10T09:22:55.208256",
     "status": "completed"
    },
    "tags": []
   },
   "source": [
    " # CRISP-DM Methodology for Anomaly Detection"
   ]
  },
  {
   "cell_type": "markdown",
   "id": "848059a6",
   "metadata": {
    "papermill": {
     "duration": 0.004849,
     "end_time": "2025-04-10T09:22:55.224796",
     "exception": false,
     "start_time": "2025-04-10T09:22:55.219947",
     "status": "completed"
    },
    "tags": []
   },
   "source": [
    "1. Business Understanding\n",
    "The task is to identify anomalous sensor readings in a large dataset. These anomalies may signal faults, attacks, or rare system behaviors.\n",
    "\n",
    "Our goal is to build a binary classification model to predict the target variable:\n",
    "\n",
    "1 → Anomaly\n",
    "\n",
    "0 → Normal\n",
    "\n",
    "Success = high F1-score, as the dataset is imbalanced and precision/recall trade-off matters more than plain accuracy."
   ]
  },
  {
   "cell_type": "markdown",
   "id": "cbba834b",
   "metadata": {
    "papermill": {
     "duration": 0.007569,
     "end_time": "2025-04-10T09:22:55.239197",
     "exception": false,
     "start_time": "2025-04-10T09:22:55.231628",
     "status": "completed"
    },
    "tags": []
   },
   "source": [
    "# Imports"
   ]
  },
  {
   "cell_type": "code",
   "execution_count": 2,
   "id": "cc37ece0",
   "metadata": {
    "execution": {
     "iopub.execute_input": "2025-04-10T09:22:55.254187Z",
     "iopub.status.busy": "2025-04-10T09:22:55.253602Z",
     "iopub.status.idle": "2025-04-10T09:22:57.779275Z",
     "shell.execute_reply": "2025-04-10T09:22:57.778166Z"
    },
    "papermill": {
     "duration": 2.536115,
     "end_time": "2025-04-10T09:22:57.781855",
     "exception": false,
     "start_time": "2025-04-10T09:22:55.245740",
     "status": "completed"
    },
    "tags": []
   },
   "outputs": [],
   "source": [
    "import pandas as pd\n",
    "import numpy as np\n",
    "import matplotlib.pyplot as plt\n",
    "import seaborn as sns\n",
    "from sklearn.metrics import f1_score, confusion_matrix, classification_report"
   ]
  },
  {
   "cell_type": "code",
   "execution_count": 3,
   "id": "322d109a",
   "metadata": {
    "execution": {
     "iopub.execute_input": "2025-04-10T09:22:57.801220Z",
     "iopub.status.busy": "2025-04-10T09:22:57.800143Z",
     "iopub.status.idle": "2025-04-10T09:22:58.118774Z",
     "shell.execute_reply": "2025-04-10T09:22:58.117815Z"
    },
    "papermill": {
     "duration": 0.328605,
     "end_time": "2025-04-10T09:22:58.120468",
     "exception": false,
     "start_time": "2025-04-10T09:22:57.791863",
     "status": "completed"
    },
    "tags": []
   },
   "outputs": [],
   "source": [
    "import pandas as pd\n",
    "import numpy as np\n",
    "import matplotlib.pyplot as plt\n",
    "import seaborn as sns\n",
    "from sklearn.model_selection import train_test_split\n",
    "from sklearn.preprocessing import StandardScaler\n",
    "from sklearn.metrics import classification_report, f1_score\n",
    "from xgboost import XGBClassifier"
   ]
  },
  {
   "cell_type": "markdown",
   "id": "33478b89",
   "metadata": {
    "papermill": {
     "duration": 0.005381,
     "end_time": "2025-04-10T09:22:58.131731",
     "exception": false,
     "start_time": "2025-04-10T09:22:58.126350",
     "status": "completed"
    },
    "tags": []
   },
   "source": [
    "# Data Understanding"
   ]
  },
  {
   "cell_type": "markdown",
   "id": "93068995",
   "metadata": {
    "papermill": {
     "duration": 0.005012,
     "end_time": "2025-04-10T09:22:58.142061",
     "exception": false,
     "start_time": "2025-04-10T09:22:58.137049",
     "status": "completed"
    },
    "tags": []
   },
   "source": [
    "We’re provided with:\n",
    "\n",
    "train.parquet: Sensor readings with known labels (target)\n",
    "\n",
    "test.parquet: Sensor readings without labels\n",
    "\n",
    "Each row corresponds to a single reading, with additional columns like Date"
   ]
  },
  {
   "cell_type": "markdown",
   "id": "ee60f88e",
   "metadata": {
    "execution": {
     "iopub.execute_input": "2025-04-10T08:37:59.476983Z",
     "iopub.status.busy": "2025-04-10T08:37:59.476596Z",
     "iopub.status.idle": "2025-04-10T08:37:59.481368Z",
     "shell.execute_reply": "2025-04-10T08:37:59.480453Z",
     "shell.execute_reply.started": "2025-04-10T08:37:59.476960Z"
    },
    "papermill": {
     "duration": 0.005135,
     "end_time": "2025-04-10T09:22:58.152636",
     "exception": false,
     "start_time": "2025-04-10T09:22:58.147501",
     "status": "completed"
    },
    "tags": []
   },
   "source": [
    "## Load data"
   ]
  },
  {
   "cell_type": "code",
   "execution_count": 4,
   "id": "54458b69",
   "metadata": {
    "execution": {
     "iopub.execute_input": "2025-04-10T09:22:58.164777Z",
     "iopub.status.busy": "2025-04-10T09:22:58.164468Z",
     "iopub.status.idle": "2025-04-10T09:22:58.820447Z",
     "shell.execute_reply": "2025-04-10T09:22:58.819338Z"
    },
    "papermill": {
     "duration": 0.664519,
     "end_time": "2025-04-10T09:22:58.822428",
     "exception": false,
     "start_time": "2025-04-10T09:22:58.157909",
     "status": "completed"
    },
    "tags": []
   },
   "outputs": [],
   "source": [
    "train_df = pd.read_parquet(\"/kaggle/input/celebal-ana-verse-h/train.parquet\")\n",
    "test_df = pd.read_parquet(\"/kaggle/input/celebal-ana-verse-h/test.parquet\")"
   ]
  },
  {
   "cell_type": "markdown",
   "id": "ad31c4a8",
   "metadata": {
    "papermill": {
     "duration": 0.005399,
     "end_time": "2025-04-10T09:22:58.833591",
     "exception": false,
     "start_time": "2025-04-10T09:22:58.828192",
     "status": "completed"
    },
    "tags": []
   },
   "source": [
    "Insight: Features like X3 and X4 have large magnitudes — we’ll need to normalize or transform them. The class distribution is imbalanced, so we’ll address that too."
   ]
  },
  {
   "cell_type": "markdown",
   "id": "482c607e",
   "metadata": {
    "papermill": {
     "duration": 0.005173,
     "end_time": "2025-04-10T09:22:58.844111",
     "exception": false,
     "start_time": "2025-04-10T09:22:58.838938",
     "status": "completed"
    },
    "tags": []
   },
   "source": [
    "# Data Preparation"
   ]
  },
  {
   "cell_type": "markdown",
   "id": "707fb4be",
   "metadata": {
    "papermill": {
     "duration": 0.004933,
     "end_time": "2025-04-10T09:22:58.854244",
     "exception": false,
     "start_time": "2025-04-10T09:22:58.849311",
     "status": "completed"
    },
    "tags": []
   },
   "source": [
    "Steps taken:\n",
    "\n",
    "Dropped unnecessary columns like Date\n",
    "\n",
    "Applied log1p() transform to high-magnitude features (X3, X4)\n",
    "\n",
    "Standardized features with StandardScaler\n",
    "\n",
    "Split into train/validation with stratify to preserve class distribution"
   ]
  },
  {
   "cell_type": "markdown",
   "id": "8b92a4da",
   "metadata": {
    "papermill": {
     "duration": 0.005006,
     "end_time": "2025-04-10T09:22:58.864653",
     "exception": false,
     "start_time": "2025-04-10T09:22:58.859647",
     "status": "completed"
    },
    "tags": []
   },
   "source": [
    "## Clean & preprocess"
   ]
  },
  {
   "cell_type": "code",
   "execution_count": 5,
   "id": "c6c58e72",
   "metadata": {
    "execution": {
     "iopub.execute_input": "2025-04-10T09:22:58.876519Z",
     "iopub.status.busy": "2025-04-10T09:22:58.876210Z",
     "iopub.status.idle": "2025-04-10T09:22:59.035557Z",
     "shell.execute_reply": "2025-04-10T09:22:59.034506Z"
    },
    "papermill": {
     "duration": 0.167819,
     "end_time": "2025-04-10T09:22:59.037720",
     "exception": false,
     "start_time": "2025-04-10T09:22:58.869901",
     "status": "completed"
    },
    "tags": []
   },
   "outputs": [],
   "source": [
    "train_df[\"target\"] = train_df[\"target\"].astype(int)"
   ]
  },
  {
   "cell_type": "markdown",
   "id": "00dac46a",
   "metadata": {
    "papermill": {
     "duration": 0.005345,
     "end_time": "2025-04-10T09:22:59.048576",
     "exception": false,
     "start_time": "2025-04-10T09:22:59.043231",
     "status": "completed"
    },
    "tags": []
   },
   "source": [
    "## Log transform large features"
   ]
  },
  {
   "cell_type": "code",
   "execution_count": 6,
   "id": "0fb8c538",
   "metadata": {
    "execution": {
     "iopub.execute_input": "2025-04-10T09:22:59.060715Z",
     "iopub.status.busy": "2025-04-10T09:22:59.060418Z",
     "iopub.status.idle": "2025-04-10T09:22:59.112240Z",
     "shell.execute_reply": "2025-04-10T09:22:59.111321Z"
    },
    "papermill": {
     "duration": 0.059836,
     "end_time": "2025-04-10T09:22:59.113946",
     "exception": false,
     "start_time": "2025-04-10T09:22:59.054110",
     "status": "completed"
    },
    "tags": []
   },
   "outputs": [],
   "source": [
    "for col in [\"X3\", \"X4\"]:\n",
    "    train_df[col] = np.log1p(train_df[col])\n",
    "    test_df[col] = np.log1p(test_df[col])"
   ]
  },
  {
   "cell_type": "markdown",
   "id": "70be397d",
   "metadata": {
    "papermill": {
     "duration": 0.005168,
     "end_time": "2025-04-10T09:22:59.124618",
     "exception": false,
     "start_time": "2025-04-10T09:22:59.119450",
     "status": "completed"
    },
    "tags": []
   },
   "source": [
    "## Split features/target"
   ]
  },
  {
   "cell_type": "code",
   "execution_count": 7,
   "id": "68893b99",
   "metadata": {
    "execution": {
     "iopub.execute_input": "2025-04-10T09:22:59.136734Z",
     "iopub.status.busy": "2025-04-10T09:22:59.136372Z",
     "iopub.status.idle": "2025-04-10T09:22:59.203839Z",
     "shell.execute_reply": "2025-04-10T09:22:59.202912Z"
    },
    "papermill": {
     "duration": 0.075808,
     "end_time": "2025-04-10T09:22:59.205662",
     "exception": false,
     "start_time": "2025-04-10T09:22:59.129854",
     "status": "completed"
    },
    "tags": []
   },
   "outputs": [],
   "source": [
    "X = train_df.drop([\"target\", \"Date\"], axis=1)\n",
    "y = train_df[\"target\"]\n",
    "X_test = test_df.drop([\"ID\", \"Date\"], axis=1)"
   ]
  },
  {
   "cell_type": "markdown",
   "id": "638566ae",
   "metadata": {
    "papermill": {
     "duration": 0.004972,
     "end_time": "2025-04-10T09:22:59.216245",
     "exception": false,
     "start_time": "2025-04-10T09:22:59.211273",
     "status": "completed"
    },
    "tags": []
   },
   "source": [
    " Clean and consistent feature formatting is key for robust modeling."
   ]
  },
  {
   "cell_type": "markdown",
   "id": "360896be",
   "metadata": {
    "papermill": {
     "duration": 0.004979,
     "end_time": "2025-04-10T09:22:59.226451",
     "exception": false,
     "start_time": "2025-04-10T09:22:59.221472",
     "status": "completed"
    },
    "tags": []
   },
   "source": [
    "# Modeling"
   ]
  },
  {
   "cell_type": "markdown",
   "id": "b0a033be",
   "metadata": {
    "papermill": {
     "duration": 0.005028,
     "end_time": "2025-04-10T09:22:59.236592",
     "exception": false,
     "start_time": "2025-04-10T09:22:59.231564",
     "status": "completed"
    },
    "tags": []
   },
   "source": [
    "We tried various models (Logistic Regression, Random Forest, etc.), but XGBoost gave the best performance.\n",
    "\n",
    "Handled class imbalance with scale_pos_weight\n",
    "\n",
    "Tuned hyperparameters manually\n",
    "\n",
    "Optimized classification threshold based on F1-score"
   ]
  },
  {
   "cell_type": "markdown",
   "id": "558bf26c",
   "metadata": {
    "papermill": {
     "duration": 0.004948,
     "end_time": "2025-04-10T09:22:59.246815",
     "exception": false,
     "start_time": "2025-04-10T09:22:59.241867",
     "status": "completed"
    },
    "tags": []
   },
   "source": [
    "## Train/val split"
   ]
  },
  {
   "cell_type": "code",
   "execution_count": 8,
   "id": "7431a373",
   "metadata": {
    "execution": {
     "iopub.execute_input": "2025-04-10T09:22:59.259052Z",
     "iopub.status.busy": "2025-04-10T09:22:59.258716Z",
     "iopub.status.idle": "2025-04-10T09:23:00.097212Z",
     "shell.execute_reply": "2025-04-10T09:23:00.096209Z"
    },
    "papermill": {
     "duration": 0.847071,
     "end_time": "2025-04-10T09:23:00.099205",
     "exception": false,
     "start_time": "2025-04-10T09:22:59.252134",
     "status": "completed"
    },
    "tags": []
   },
   "outputs": [],
   "source": [
    "X_train, X_val, y_train, y_val = train_test_split(\n",
    "    X, y, test_size=0.2, stratify=y, random_state=42\n",
    ")"
   ]
  },
  {
   "cell_type": "markdown",
   "id": "be85fc1d",
   "metadata": {
    "papermill": {
     "duration": 0.005498,
     "end_time": "2025-04-10T09:23:00.111342",
     "exception": false,
     "start_time": "2025-04-10T09:23:00.105844",
     "status": "completed"
    },
    "tags": []
   },
   "source": [
    "## Scaling"
   ]
  },
  {
   "cell_type": "code",
   "execution_count": 9,
   "id": "74b25430",
   "metadata": {
    "execution": {
     "iopub.execute_input": "2025-04-10T09:23:00.123051Z",
     "iopub.status.busy": "2025-04-10T09:23:00.122777Z",
     "iopub.status.idle": "2025-04-10T09:23:00.349708Z",
     "shell.execute_reply": "2025-04-10T09:23:00.348617Z"
    },
    "papermill": {
     "duration": 0.234881,
     "end_time": "2025-04-10T09:23:00.351586",
     "exception": false,
     "start_time": "2025-04-10T09:23:00.116705",
     "status": "completed"
    },
    "tags": []
   },
   "outputs": [],
   "source": [
    "scaler = StandardScaler()\n",
    "X_train_scaled = scaler.fit_transform(X_train)\n",
    "X_val_scaled = scaler.transform(X_val)\n",
    "X_test_scaled = scaler.transform(X_test)"
   ]
  },
  {
   "cell_type": "markdown",
   "id": "992f4853",
   "metadata": {
    "papermill": {
     "duration": 0.005173,
     "end_time": "2025-04-10T09:23:00.362411",
     "exception": false,
     "start_time": "2025-04-10T09:23:00.357238",
     "status": "completed"
    },
    "tags": []
   },
   "source": [
    "## Train XGBoost"
   ]
  },
  {
   "cell_type": "code",
   "execution_count": 10,
   "id": "12728a39",
   "metadata": {
    "execution": {
     "iopub.execute_input": "2025-04-10T09:23:00.374237Z",
     "iopub.status.busy": "2025-04-10T09:23:00.373871Z",
     "iopub.status.idle": "2025-04-10T09:23:27.312148Z",
     "shell.execute_reply": "2025-04-10T09:23:27.311005Z"
    },
    "papermill": {
     "duration": 26.946319,
     "end_time": "2025-04-10T09:23:27.313964",
     "exception": false,
     "start_time": "2025-04-10T09:23:00.367645",
     "status": "completed"
    },
    "tags": []
   },
   "outputs": [],
   "source": [
    "scale_pos_weight = (y_train == 0).sum() / (y_train == 1).sum()\n",
    "\n",
    "xgb = XGBClassifier(\n",
    "    use_label_encoder=False,\n",
    "    eval_metric='logloss',\n",
    "    scale_pos_weight=scale_pos_weight,\n",
    "    n_estimators=500,\n",
    "    learning_rate=0.05,\n",
    "    max_depth=6,\n",
    "    subsample=0.8,\n",
    "    colsample_bytree=0.8,\n",
    "    random_state=42\n",
    ")\n",
    "\n",
    "xgb.fit(X_train_scaled, y_train)\n",
    "y_val_pred_proba = xgb.predict_proba(X_val_scaled)[:, 1]"
   ]
  },
  {
   "cell_type": "markdown",
   "id": "aab90979",
   "metadata": {
    "papermill": {
     "duration": 0.005617,
     "end_time": "2025-04-10T09:23:27.325529",
     "exception": false,
     "start_time": "2025-04-10T09:23:27.319912",
     "status": "completed"
    },
    "tags": []
   },
   "source": [
    "XGBoost is ideal here: handles imbalance, learns complex patterns, and is fast to train."
   ]
  },
  {
   "cell_type": "markdown",
   "id": "8b4fb4aa",
   "metadata": {
    "papermill": {
     "duration": 0.005071,
     "end_time": "2025-04-10T09:23:27.335839",
     "exception": false,
     "start_time": "2025-04-10T09:23:27.330768",
     "status": "completed"
    },
    "tags": []
   },
   "source": [
    "## Threshold Optimization"
   ]
  },
  {
   "cell_type": "code",
   "execution_count": 11,
   "id": "55be5db0",
   "metadata": {
    "execution": {
     "iopub.execute_input": "2025-04-10T09:23:27.347793Z",
     "iopub.status.busy": "2025-04-10T09:23:27.347516Z",
     "iopub.status.idle": "2025-04-10T09:23:37.352742Z",
     "shell.execute_reply": "2025-04-10T09:23:37.351589Z"
    },
    "papermill": {
     "duration": 10.013234,
     "end_time": "2025-04-10T09:23:37.354455",
     "exception": false,
     "start_time": "2025-04-10T09:23:27.341221",
     "status": "completed"
    },
    "tags": []
   },
   "outputs": [
    {
     "name": "stdout",
     "output_type": "stream",
     "text": [
      "Best Threshold: 0.98, Best F1: 0.6358244365361803\n"
     ]
    }
   ],
   "source": [
    "best_threshold = 0.0\n",
    "best_f1 = 0.0\n",
    "\n",
    "for thresh in np.linspace(0.01, 0.99, 99):\n",
    "    preds = (y_val_pred_proba > thresh).astype(int)\n",
    "    score = f1_score(y_val, preds)\n",
    "    if score > best_f1:\n",
    "        best_f1 = score\n",
    "        best_threshold = thresh\n",
    "\n",
    "print(f\"Best Threshold: {best_threshold}, Best F1: {best_f1}\")"
   ]
  },
  {
   "cell_type": "markdown",
   "id": "43661078",
   "metadata": {
    "papermill": {
     "duration": 0.00501,
     "end_time": "2025-04-10T09:23:37.365024",
     "exception": false,
     "start_time": "2025-04-10T09:23:37.360014",
     "status": "completed"
    },
    "tags": []
   },
   "source": [
    "## Evaluation"
   ]
  },
  {
   "cell_type": "markdown",
   "id": "bbe29105",
   "metadata": {
    "papermill": {
     "duration": 0.00507,
     "end_time": "2025-04-10T09:23:37.375323",
     "exception": false,
     "start_time": "2025-04-10T09:23:37.370253",
     "status": "completed"
    },
    "tags": []
   },
   "source": [
    "###  Validation Performance\n",
    "\n",
    "The model was evaluated using the **F1-score** to account for class imbalance. Here's a breakdown:\n",
    "\n",
    "-  **F1 Score**: Measures balance between precision & recall.\n",
    "-  **Confusion Matrix**: Gives a clear picture of true vs. false predictions.\n",
    "-  **Classification Report**: Shows class-wise precision and recall.\n",
    "\n",
    "From the results, we observe the model performs well on both classes, especially in capturing anomalies without too many false alarms.\n"
   ]
  },
  {
   "cell_type": "code",
   "execution_count": 12,
   "id": "eee09b7b",
   "metadata": {
    "execution": {
     "iopub.execute_input": "2025-04-10T09:23:37.387298Z",
     "iopub.status.busy": "2025-04-10T09:23:37.386884Z",
     "iopub.status.idle": "2025-04-10T09:23:38.222023Z",
     "shell.execute_reply": "2025-04-10T09:23:38.220909Z"
    },
    "papermill": {
     "duration": 0.843021,
     "end_time": "2025-04-10T09:23:38.223567",
     "exception": false,
     "start_time": "2025-04-10T09:23:37.380546",
     "status": "completed"
    },
    "tags": []
   },
   "outputs": [
    {
     "name": "stdout",
     "output_type": "stream",
     "text": [
      "Validation F1 Score: 0.6358\n",
      "Confusion Matrix:\n",
      "[[324435    642]\n",
      " [  1200   1608]]\n"
     ]
    },
    {
     "data": {
      "image/png": "[encoded data removed]",
      "text/plain": [
       "<Figure size 500x400 with 2 Axes>"
      ]
     },
     "metadata": {},
     "output_type": "display_data"
    },
    {
     "name": "stdout",
     "output_type": "stream",
     "text": [
      "Classification Report:\n",
      "              precision    recall  f1-score   support\n",
      "\n",
      "      Normal       1.00      1.00      1.00    325077\n",
      "     Anomaly       0.71      0.57      0.64      2808\n",
      "\n",
      "    accuracy                           0.99    327885\n",
      "   macro avg       0.86      0.79      0.82    327885\n",
      "weighted avg       0.99      0.99      0.99    327885\n",
      "\n"
     ]
    }
   ],
   "source": [
    "# Predict on validation set using best threshold\n",
    "y_val_preds = (y_val_pred_proba > best_threshold).astype(int)\n",
    "\n",
    "# F1 Score\n",
    "val_f1 = f1_score(y_val, y_val_preds)\n",
    "print(f\"Validation F1 Score: {val_f1:.4f}\")\n",
    "\n",
    "# Confusion Matrix\n",
    "cm = confusion_matrix(y_val, y_val_preds)\n",
    "print(\"Confusion Matrix:\")\n",
    "print(cm)\n",
    "\n",
    "# Plot it\n",
    "plt.figure(figsize=(5, 4))\n",
    "sns.heatmap(cm, annot=True, fmt='d', cmap=\"Blues\", xticklabels=[\"Normal (0)\", \"Anomaly (1)\"], yticklabels=[\"Normal (0)\", \"Anomaly (1)\"])\n",
    "plt.xlabel(\"Predicted\")\n",
    "plt.ylabel(\"Actual\")\n",
    "plt.title(\"Confusion Matrix\")\n",
    "plt.show()\n",
    "\n",
    "# Classification Report\n",
    "print(\"Classification Report:\")\n",
    "print(classification_report(y_val, y_val_preds, target_names=[\"Normal\", \"Anomaly\"]))"
   ]
  },
  {
   "cell_type": "markdown",
   "id": "a73b46c6",
   "metadata": {
    "papermill": {
     "duration": 0.005811,
     "end_time": "2025-04-10T09:23:38.235736",
     "exception": false,
     "start_time": "2025-04-10T09:23:38.229925",
     "status": "completed"
    },
    "tags": []
   },
   "source": [
    "Used F1-score since the dataset is imbalanced.\n",
    "\n",
    "Ran threshold tuning loop to find best cut-off for probabilities\n",
    "\n",
    "Evaluated using classification report on validation set"
   ]
  },
  {
   "cell_type": "code",
   "execution_count": 13,
   "id": "b94e9127",
   "metadata": {
    "execution": {
     "iopub.execute_input": "2025-04-10T09:23:38.249414Z",
     "iopub.status.busy": "2025-04-10T09:23:38.249042Z",
     "iopub.status.idle": "2025-04-10T09:23:40.540327Z",
     "shell.execute_reply": "2025-04-10T09:23:40.539146Z"
    },
    "papermill": {
     "duration": 2.299851,
     "end_time": "2025-04-10T09:23:40.541864",
     "exception": false,
     "start_time": "2025-04-10T09:23:38.242013",
     "status": "completed"
    },
    "tags": []
   },
   "outputs": [
    {
     "name": "stdout",
     "output_type": "stream",
     "text": [
      "Submission file saved as submission2.csv\n"
     ]
    }
   ],
   "source": [
    "final_probs = xgb.predict_proba(X_test_scaled)[:, 1]\n",
    "final_preds = (final_probs > best_threshold).astype(int)\n",
    "\n",
    "submission = pd.DataFrame({\n",
    "    \"ID\": test_df[\"ID\"],\n",
    "    \"target\": final_preds\n",
    "})\n",
    "\n",
    "submission.to_csv(\"submission2.csv\", index=False)\n",
    "print(\"Submission file saved as submission2.csv\")"
   ]
  },
  {
   "cell_type": "code",
   "execution_count": 14,
   "id": "2c048e4a",
   "metadata": {
    "execution": {
     "iopub.execute_input": "2025-04-10T09:23:40.555496Z",
     "iopub.status.busy": "2025-04-10T09:23:40.555182Z",
     "iopub.status.idle": "2025-04-10T09:23:40.560963Z",
     "shell.execute_reply": "2025-04-10T09:23:40.560189Z"
    },
    "papermill": {
     "duration": 0.014347,
     "end_time": "2025-04-10T09:23:40.562478",
     "exception": false,
     "start_time": "2025-04-10T09:23:40.548131",
     "status": "completed"
    },
    "tags": []
   },
   "outputs": [
    {
     "data": {
      "text/html": [
       "<a href='submission2.csv' target='_blank'>submission2.csv</a><br>"
      ],
      "text/plain": [
       "/kaggle/working/submission2.csv"
      ]
     },
     "execution_count": 14,
     "metadata": {},
     "output_type": "execute_result"
    }
   ],
   "source": [
    "from IPython.display import FileLink\n",
    "FileLink(\"submission2.csv\")"
   ]
  }
 ],
 "metadata": {
  "kaggle": {
   "accelerator": "none",
   "dataSources": [
    {
     "databundleVersionId": 11763758,
     "sourceId": 98589,
     "sourceType": "competition"
    }
   ],
   "dockerImageVersionId": 31012,
   "isGpuEnabled": false,
   "isInternetEnabled": true,
   "language": "python",
   "sourceType": "notebook"
  },
  "kernelspec": {
   "display_name": "Python 3",
   "language": "python",
   "name": "python3"
  },
  "language_info": {
   "codemirror_mode": {
    "name": "ipython",
    "version": 3
   },
   "file_extension": ".py",
   "mimetype": "text/x-python",
   "name": "python",
   "nbconvert_exporter": "python",
   "pygments_lexer": "ipython3",
   "version": "3.11.11"
  },
  "papermill": {
   "default_parameters": {},
   "duration": 53.687117,
   "end_time": "2025-04-10T09:23:41.460354",
   "environment_variables": {},
   "exception": null,
   "input_path": "__notebook__.ipynb",
   "output_path": "__notebook__.ipynb",
   "parameters": {},
   "start_time": "2025-04-10T09:22:47.773237",
   "version": "2.6.0"
  }
 },
 "nbformat": 4,
 "nbformat_minor": 5
}
